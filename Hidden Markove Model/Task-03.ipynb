{
 "cells": [
  {
   "cell_type": "code",
   "execution_count": 1,
   "id": "302f9a34",
   "metadata": {},
   "outputs": [
    {
     "name": "stdout",
     "output_type": "stream",
     "text": [
      "Probability of observing ['Walking', 'Shopping', 'Walking'] is 0.12092400000000002\n"
     ]
    }
   ],
   "source": [
    "import numpy as np\n",
    "\n",
    "# Define the states (hidden states)\n",
    "states = [\"Sunny\", \"Rainy\"]\n",
    "\n",
    "# Define the observations (observable states)\n",
    "observations = [\"Walking\", \"Shopping\"]\n",
    "\n",
    "# Initial state probabilities\n",
    "initial_probabilities = np.array([0.7, 0.3])\n",
    "\n",
    "# Transition probabilities\n",
    "transition_probabilities = np.array([\n",
    "    [0.8, 0.2],  # Sunny to Sunny, Sunny to Rainy\n",
    "    [0.4, 0.6]   # Rainy to Sunny, Rainy to Rainy\n",
    "])\n",
    "\n",
    "# Emission probabilities\n",
    "emission_probabilities = np.array([\n",
    "    [0.6, 0.4],  # Sunny -> Walking, Sunny -> Shopping\n",
    "    [0.3, 0.7]   # Rainy -> Walking, Rainy -> Shopping\n",
    "])\n",
    "\n",
    "# Define the HMM\n",
    "class HiddenMarkovModel:\n",
    "    def __init__(self, states, observations, initial_probabilities, transition_probabilities, emission_probabilities):\n",
    "        self.states = states\n",
    "        self.observations = observations\n",
    "        self.initial_probabilities = initial_probabilities\n",
    "        self.transition_probabilities = transition_probabilities\n",
    "        self.emission_probabilities = emission_probabilities\n",
    "        self.num_states = len(states)\n",
    "        self.num_observations = len(observations)\n",
    "\n",
    "    def forward(self, observations):\n",
    "        T = len(observations)\n",
    "        alpha = np.zeros((T, self.num_states))\n",
    "        for t in range(T):\n",
    "            if t == 0:\n",
    "                alpha[t] = self.initial_probabilities * self.emission_probabilities[:, self.observations.index(observations[t])]\n",
    "            else:\n",
    "                alpha[t] = np.dot(alpha[t - 1], self.transition_probabilities) * self.emission_probabilities[:, self.observations.index(observations[t])]\n",
    "        return alpha\n",
    "\n",
    "    def predict(self, observations):\n",
    "        alpha = self.forward(observations)\n",
    "        return alpha[-1]\n",
    "\n",
    "# Create an instance of the HMM\n",
    "hmm = HiddenMarkovModel(states, observations, initial_probabilities, transition_probabilities, emission_probabilities)\n",
    "\n",
    "# Predict the probability of a sequence of observations\n",
    "observed_sequence = [\"Walking\", \"Shopping\", \"Walking\"]\n",
    "result = hmm.predict(observed_sequence)\n",
    "print(f\"Probability of observing {observed_sequence} is {result.sum()}\")\n"
   ]
  },
  {
   "cell_type": "code",
   "execution_count": 2,
   "id": "b4f05e84",
   "metadata": {},
   "outputs": [
    {
     "ename": "ModuleNotFoundError",
     "evalue": "No module named 'tensorflow_probability'",
     "output_type": "error",
     "traceback": [
      "\u001b[1;31m---------------------------------------------------------------------------\u001b[0m",
      "\u001b[1;31mModuleNotFoundError\u001b[0m                       Traceback (most recent call last)",
      "Input \u001b[1;32mIn [2]\u001b[0m, in \u001b[0;36m<cell line: 2>\u001b[1;34m()\u001b[0m\n\u001b[0;32m      1\u001b[0m \u001b[38;5;28;01mimport\u001b[39;00m \u001b[38;5;21;01mtensorflow\u001b[39;00m \u001b[38;5;28;01mas\u001b[39;00m \u001b[38;5;21;01mtf\u001b[39;00m\n\u001b[1;32m----> 2\u001b[0m \u001b[38;5;28;01mimport\u001b[39;00m \u001b[38;5;21;01mtensorflow_probability\u001b[39;00m \u001b[38;5;28;01mas\u001b[39;00m \u001b[38;5;21;01mtfp\u001b[39;00m\n\u001b[0;32m      3\u001b[0m \u001b[38;5;28;01mimport\u001b[39;00m \u001b[38;5;21;01mnumpy\u001b[39;00m \u001b[38;5;28;01mas\u001b[39;00m \u001b[38;5;21;01mnp\u001b[39;00m\n\u001b[0;32m      5\u001b[0m tfd \u001b[38;5;241m=\u001b[39m tfp\u001b[38;5;241m.\u001b[39mdistributions\n",
      "\u001b[1;31mModuleNotFoundError\u001b[0m: No module named 'tensorflow_probability'"
     ]
    }
   ],
   "source": [
    "import tensorflow as tf\n",
    "import tensorflow_probability as tfp\n",
    "import numpy as np\n",
    "\n",
    "tfd = tfp.distributions\n",
    "\n",
    "# Define the states (hidden states)\n",
    "states = [\"Sunny\", \"Rainy\"]\n",
    "\n",
    "# Define the observations (observable states)\n",
    "observations = [\"Walking\", \"Shopping\"]\n",
    "\n",
    "# Initial state probabilities\n",
    "initial_probabilities = np.array([0.7, 0.3], dtype=np.float32)\n",
    "\n",
    "# Transition probabilities\n",
    "transition_probabilities = np.array([\n",
    "    [0.8, 0.2],  # Sunny to Sunny, Sunny to Rainy\n",
    "    [0.4, 0.6]   # Rainy to Sunny, Rainy to Rainy\n",
    "], dtype=np.float32)\n",
    "\n",
    "# Emission probabilities\n",
    "emission_probabilities = np.array([\n",
    "    [0.6, 0.4],  # Sunny -> Walking, Sunny -> Shopping\n",
    "    [0.3, 0.7]   # Rainy -> Walking, Rainy -> Shopping\n",
    "], dtype=np.float32)\n",
    "\n",
    "# Create TensorFlow Probability distributions\n",
    "initial_distribution = tfd.Categorical(probs=initial_probabilities)\n",
    "transition_distribution = tfd.Categorical(probs=transition_probabilities)\n",
    "emission_distribution = tfd.Categorical(probs=emission_probabilities)\n",
    "\n",
    "# Create a Hidden Markov Model\n",
    "model = tfd.HiddenMarkovModel(\n",
    "    initial_distribution=initial_distribution,\n",
    "    transition_distribution=transition_distribution,\n",
    "    observation_distribution=emission_distribution,\n",
    "    num_steps=len(observations)\n",
    ")\n",
    "\n",
    "# Define the sequence of observations\n",
    "observed_sequence = [\"Walking\", \"Shopping\", \"Walking\"]\n",
    "\n",
    "# Calculate the probability of observing the sequence\n",
    "log_prob = model.log_prob(observed_sequence)\n",
    "\n",
    "# Convert log probability to regular probability\n",
    "probability = tf.exp(log_prob).numpy()\n",
    "\n",
    "print(f\"Probability of observing {observed_sequence} is {probability:.5f}\")\n"
   ]
  }
 ],
 "metadata": {
  "kernelspec": {
   "display_name": "Python 3 (ipykernel)",
   "language": "python",
   "name": "python3"
  },
  "language_info": {
   "codemirror_mode": {
    "name": "ipython",
    "version": 3
   },
   "file_extension": ".py",
   "mimetype": "text/x-python",
   "name": "python",
   "nbconvert_exporter": "python",
   "pygments_lexer": "ipython3",
   "version": "3.9.12"
  }
 },
 "nbformat": 4,
 "nbformat_minor": 5
}
